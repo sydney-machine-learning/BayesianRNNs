{
 "cells": [
  {
   "cell_type": "code",
   "execution_count": 1,
   "metadata": {},
   "outputs": [],
   "source": [
    "import torch\n",
    "import torch.nn as nn"
   ]
  },
  {
   "cell_type": "code",
   "execution_count": 2,
   "metadata": {},
   "outputs": [],
   "source": [
    "# Defining input size, hidden layer size, output size and batch size respectively\n",
    "n_in, n_h, n_out, batch_size = 10, 5, 1, 10"
   ]
  },
  {
   "cell_type": "code",
   "execution_count": 3,
   "metadata": {},
   "outputs": [],
   "source": [
    "# Create dummy input and target tensors (data)\n",
    "x = torch.randn(batch_size, n_in)\n",
    "y = torch.tensor([[1.0], [0.0], [0.0], [1.0], [1.0], [1.0], [0.0], [0.0], [1.0], [1.0]]) "
   ]
  },
  {
   "cell_type": "code",
   "execution_count": 4,
   "metadata": {},
   "outputs": [],
   "source": [
    "# Create a model\n",
    "model = nn.Sequential(nn.Linear(n_in, n_h),\n",
    "                     nn.ReLU(),\n",
    "                     nn.Linear(n_h, n_out),\n",
    "                     nn.Sigmoid())"
   ]
  },
  {
   "cell_type": "code",
   "execution_count": 5,
   "metadata": {},
   "outputs": [],
   "source": [
    "# Construct the loss function\n",
    "criterion = torch.nn.MSELoss()\n",
    "\n",
    "# Construct the optimizer (Stochastic Gradient Descent in this case)\n",
    "optimizer = torch.optim.SGD(model.parameters(), lr=0.01)"
   ]
  },
  {
   "cell_type": "code",
   "execution_count": 6,
   "metadata": {},
   "outputs": [
    {
     "name": "stdout",
     "output_type": "stream",
     "text": [
      "epoch:  0  loss:  0.2545787990093231\n",
      "epoch:  1  loss:  0.2545052170753479\n",
      "epoch:  2  loss:  0.254431813955307\n",
      "epoch:  3  loss:  0.25435858964920044\n",
      "epoch:  4  loss:  0.2542854845523834\n",
      "epoch:  5  loss:  0.25421255826950073\n",
      "epoch:  6  loss:  0.25413978099823\n",
      "epoch:  7  loss:  0.25406715273857117\n",
      "epoch:  8  loss:  0.2539947032928467\n",
      "epoch:  9  loss:  0.25392240285873413\n",
      "epoch:  10  loss:  0.25385022163391113\n",
      "epoch:  11  loss:  0.25377824902534485\n",
      "epoch:  12  loss:  0.2537063956260681\n",
      "epoch:  13  loss:  0.2536346912384033\n",
      "epoch:  14  loss:  0.25356316566467285\n",
      "epoch:  15  loss:  0.25349172949790955\n",
      "epoch:  16  loss:  0.25342053174972534\n",
      "epoch:  17  loss:  0.2533493936061859\n",
      "epoch:  18  loss:  0.2532784342765808\n",
      "epoch:  19  loss:  0.25320762395858765\n",
      "epoch:  20  loss:  0.2531369626522064\n",
      "epoch:  21  loss:  0.25306645035743713\n",
      "epoch:  22  loss:  0.252996027469635\n",
      "epoch:  23  loss:  0.2529257833957672\n",
      "epoch:  24  loss:  0.25285571813583374\n",
      "epoch:  25  loss:  0.25278574228286743\n",
      "epoch:  26  loss:  0.25271597504615784\n",
      "epoch:  27  loss:  0.25264623761177063\n",
      "epoch:  28  loss:  0.25257670879364014\n",
      "epoch:  29  loss:  0.2525072991847992\n",
      "epoch:  30  loss:  0.2524380087852478\n",
      "epoch:  31  loss:  0.2523689270019531\n",
      "epoch:  32  loss:  0.25229987502098083\n",
      "epoch:  33  loss:  0.25223103165626526\n",
      "epoch:  34  loss:  0.25216227769851685\n",
      "epoch:  35  loss:  0.252093642950058\n",
      "epoch:  36  loss:  0.25202515721321106\n",
      "epoch:  37  loss:  0.2519568204879761\n",
      "epoch:  38  loss:  0.251888632774353\n",
      "epoch:  39  loss:  0.25182053446769714\n",
      "epoch:  40  loss:  0.2517525553703308\n",
      "epoch:  41  loss:  0.2516847252845764\n",
      "epoch:  42  loss:  0.2516169846057892\n",
      "epoch:  43  loss:  0.2515493929386139\n",
      "epoch:  44  loss:  0.25148195028305054\n",
      "epoch:  45  loss:  0.25141456723213196\n",
      "epoch:  46  loss:  0.2513473629951477\n",
      "epoch:  47  loss:  0.2512802183628082\n",
      "epoch:  48  loss:  0.2512132525444031\n",
      "epoch:  49  loss:  0.2511464059352875\n"
     ]
    }
   ],
   "source": [
    "# Gradient Descent\n",
    "for epoch in range(50):\n",
    "    # Forward pass: Compute predicted y by passing x to the model\n",
    "    y_pred = model(x)\n",
    "\n",
    "    # Compute and print loss\n",
    "    loss = criterion(y_pred, y)\n",
    "    print('epoch: ', epoch,' loss: ', loss.item())\n",
    "\n",
    "    # Zero gradients, perform a backward pass, and update the weights.\n",
    "    optimizer.zero_grad()\n",
    "    \n",
    "    # perform a backward pass (backpropagation)\n",
    "    loss.backward()\n",
    "    \n",
    "    # Update the parameters\n",
    "    optimizer.step()"
   ]
  }
 ],
 "metadata": {
  "kernelspec": {
   "display_name": "Python 3",
   "language": "python",
   "name": "python3"
  },
  "language_info": {
   "codemirror_mode": {
    "name": "ipython",
    "version": 3
   },
   "file_extension": ".py",
   "mimetype": "text/x-python",
   "name": "python",
   "nbconvert_exporter": "python",
   "pygments_lexer": "ipython3",
   "version": "3.6.5"
  }
 },
 "nbformat": 4,
 "nbformat_minor": 2
}
